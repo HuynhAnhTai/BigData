{
  "nbformat": 4,
  "nbformat_minor": 0,
  "metadata": {
    "colab": {
      "name": "Untitled4.ipynb",
      "provenance": [],
      "collapsed_sections": []
    },
    "kernelspec": {
      "name": "python3",
      "display_name": "Python 3"
    }
  },
  "cells": [
    {
      "cell_type": "code",
      "metadata": {
        "colab": {
          "base_uri": "https://localhost:8080/"
        },
        "id": "Ftqu1e69DGgj",
        "outputId": "eb048c8e-47fe-430b-c40f-d3e82e60f2fe"
      },
      "source": [
        "!pip install pyspark"
      ],
      "execution_count": 1,
      "outputs": [
        {
          "output_type": "stream",
          "text": [
            "Collecting pyspark\n",
            "\u001b[?25l  Downloading https://files.pythonhosted.org/packages/f0/26/198fc8c0b98580f617cb03cb298c6056587b8f0447e20fa40c5b634ced77/pyspark-3.0.1.tar.gz (204.2MB)\n",
            "\u001b[K     |████████████████████████████████| 204.2MB 65kB/s \n",
            "\u001b[?25hCollecting py4j==0.10.9\n",
            "\u001b[?25l  Downloading https://files.pythonhosted.org/packages/9e/b6/6a4fb90cd235dc8e265a6a2067f2a2c99f0d91787f06aca4bcf7c23f3f80/py4j-0.10.9-py2.py3-none-any.whl (198kB)\n",
            "\u001b[K     |████████████████████████████████| 204kB 30.8MB/s \n",
            "\u001b[?25hBuilding wheels for collected packages: pyspark\n",
            "  Building wheel for pyspark (setup.py) ... \u001b[?25l\u001b[?25hdone\n",
            "  Created wheel for pyspark: filename=pyspark-3.0.1-py2.py3-none-any.whl size=204612242 sha256=38078f9f5d620a38dc7f1773482747d5603fd864c5885848d48bab637118d89c\n",
            "  Stored in directory: /root/.cache/pip/wheels/5e/bd/07/031766ca628adec8435bb40f0bd83bb676ce65ff4007f8e73f\n",
            "Successfully built pyspark\n",
            "Installing collected packages: py4j, pyspark\n",
            "Successfully installed py4j-0.10.9 pyspark-3.0.1\n"
          ],
          "name": "stdout"
        }
      ]
    },
    {
      "cell_type": "code",
      "metadata": {
        "id": "CaFGLKkiDPLB"
      },
      "source": [
        "import pyspark\r\n",
        "from pyspark import SparkConf, SparkContext\r\n",
        "import collections"
      ],
      "execution_count": 2,
      "outputs": []
    },
    {
      "cell_type": "code",
      "metadata": {
        "id": "13H197qdDTfF"
      },
      "source": [
        "conf = SparkConf().setMaster('local').setAppName('frequency word')\r\n",
        "sc = SparkContext.getOrCreate(conf=conf)"
      ],
      "execution_count": 3,
      "outputs": []
    },
    {
      "cell_type": "code",
      "metadata": {
        "id": "FoWVfrrEK9u2"
      },
      "source": [
        "def readFile():\r\n",
        "  lines = sc.textFile(\"text.txt\")\r\n",
        "  return lines.collect()"
      ],
      "execution_count": 71,
      "outputs": []
    },
    {
      "cell_type": "code",
      "metadata": {
        "id": "JqFx2cNTDdpI"
      },
      "source": [
        "def countWord(data):\r\n",
        "  #đẩy dữ liệu theo hướng song song\r\n",
        "  rdd = sc.parallelize(data[0].split())\r\n",
        "  #set mỗi word là 1\r\n",
        "  counts = rdd.map(lambda word: (word,1))\r\n",
        "  counts = counts.reduceByKey(lambda x,y: x+y)\r\n",
        "  return counts"
      ],
      "execution_count": 95,
      "outputs": []
    },
    {
      "cell_type": "code",
      "metadata": {
        "id": "xkyTu4SPDfbI"
      },
      "source": [
        "def chooseWord(k, dataCountWord):\r\n",
        "  words = []\r\n",
        "  dataCountWord = dataCountWord.sortBy(lambda item: item[1],ascending=False)\r\n",
        "  for count, value in enumerate(dataCountWord.collect()):\r\n",
        "    if(count<k):\r\n",
        "      words.append(value[0])\r\n",
        "    else:\r\n",
        "      break\r\n",
        "  print(words)"
      ],
      "execution_count": 93,
      "outputs": []
    },
    {
      "cell_type": "code",
      "metadata": {
        "colab": {
          "base_uri": "https://localhost:8080/"
        },
        "id": "qsi1aBMHHR5r",
        "outputId": "03b5f2ae-ca35-4b3f-8dbb-1bc0ec8d0932"
      },
      "source": [
        "data = readFile()\r\n",
        "dataCountWord = countWord(data)\r\n",
        "chooseWord(3, dataCountWord)"
      ],
      "execution_count": 97,
      "outputs": [
        {
          "output_type": "stream",
          "text": [
            "['was', 'a', 'and']\n"
          ],
          "name": "stdout"
        }
      ]
    }
  ]
}