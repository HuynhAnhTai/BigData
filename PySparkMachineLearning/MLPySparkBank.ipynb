{
  "nbformat": 4,
  "nbformat_minor": 0,
  "metadata": {
    "colab": {
      "name": "MLPySparkBank.ipynb",
      "provenance": [],
      "collapsed_sections": []
    },
    "kernelspec": {
      "name": "python3",
      "display_name": "Python 3"
    },
    "language_info": {
      "name": "python"
    }
  },
  "cells": [
    {
      "cell_type": "code",
      "metadata": {
        "colab": {
          "base_uri": "https://localhost:8080/"
        },
        "id": "uIRE59nGp6Yh",
        "outputId": "1b69028f-4e04-4378-a5df-df230accaf9b"
      },
      "source": [
        "!pip install pyspark"
      ],
      "execution_count": null,
      "outputs": [
        {
          "output_type": "stream",
          "text": [
            "Collecting pyspark\n",
            "\u001b[?25l  Downloading https://files.pythonhosted.org/packages/45/b0/9d6860891ab14a39d4bddf80ba26ce51c2f9dc4805e5c6978ac0472c120a/pyspark-3.1.1.tar.gz (212.3MB)\n",
            "\u001b[K     |████████████████████████████████| 212.3MB 64kB/s \n",
            "\u001b[?25hCollecting py4j==0.10.9\n",
            "\u001b[?25l  Downloading https://files.pythonhosted.org/packages/9e/b6/6a4fb90cd235dc8e265a6a2067f2a2c99f0d91787f06aca4bcf7c23f3f80/py4j-0.10.9-py2.py3-none-any.whl (198kB)\n",
            "\u001b[K     |████████████████████████████████| 204kB 46.3MB/s \n",
            "\u001b[?25hBuilding wheels for collected packages: pyspark\n",
            "  Building wheel for pyspark (setup.py) ... \u001b[?25l\u001b[?25hdone\n",
            "  Created wheel for pyspark: filename=pyspark-3.1.1-py2.py3-none-any.whl size=212767604 sha256=14498bef0249ed48f5f5ad5e85d92a58ac1ba14ddfd3a2589d53d5e053b1c90f\n",
            "  Stored in directory: /root/.cache/pip/wheels/0b/90/c0/01de724414ef122bd05f056541fb6a0ecf47c7ca655f8b3c0f\n",
            "Successfully built pyspark\n",
            "Installing collected packages: py4j, pyspark\n",
            "Successfully installed py4j-0.10.9 pyspark-3.1.1\n"
          ],
          "name": "stdout"
        }
      ]
    },
    {
      "cell_type": "code",
      "metadata": {
        "id": "hOJWddVJpkpU"
      },
      "source": [
        "import pandas as pd\n",
        "import numpy as np\n",
        "from pyspark.sql import SparkSession"
      ],
      "execution_count": null,
      "outputs": []
    },
    {
      "cell_type": "code",
      "metadata": {
        "id": "OtdsxNPyptot"
      },
      "source": [
        "spark = SparkSession.builder.appName('ML project').getOrCreate()"
      ],
      "execution_count": null,
      "outputs": []
    },
    {
      "cell_type": "code",
      "metadata": {
        "colab": {
          "base_uri": "https://localhost:8080/"
        },
        "id": "w2jvn0P3pxyE",
        "outputId": "810d9f63-40c5-4e54-afd8-fae37ac6a10d"
      },
      "source": [
        "df = spark.read.csv('bank.csv', header = True, inferSchema = True)\n",
        "df.printSchema()"
      ],
      "execution_count": null,
      "outputs": [
        {
          "output_type": "stream",
          "text": [
            "root\n",
            " |-- age: integer (nullable = true)\n",
            " |-- job: string (nullable = true)\n",
            " |-- marital: string (nullable = true)\n",
            " |-- education: string (nullable = true)\n",
            " |-- default: string (nullable = true)\n",
            " |-- balance: integer (nullable = true)\n",
            " |-- housing: string (nullable = true)\n",
            " |-- loan: string (nullable = true)\n",
            " |-- contact: string (nullable = true)\n",
            " |-- day: integer (nullable = true)\n",
            " |-- month: string (nullable = true)\n",
            " |-- duration: integer (nullable = true)\n",
            " |-- campaign: integer (nullable = true)\n",
            " |-- pdays: integer (nullable = true)\n",
            " |-- previous: integer (nullable = true)\n",
            " |-- poutcome: string (nullable = true)\n",
            " |-- deposit: string (nullable = true)\n",
            "\n"
          ],
          "name": "stdout"
        }
      ]
    },
    {
      "cell_type": "code",
      "metadata": {
        "colab": {
          "base_uri": "https://localhost:8080/",
          "height": 111
        },
        "id": "EwMRrVZBp0ur",
        "outputId": "739f4ea3-aaaa-48ae-f19b-4ffd61980c02"
      },
      "source": [
        "class_name = df.columns[len(df.columns)-1]\n",
        "df.groupBy(class_name).count().toPandas()"
      ],
      "execution_count": null,
      "outputs": [
        {
          "output_type": "execute_result",
          "data": {
            "text/html": [
              "<div>\n",
              "<style scoped>\n",
              "    .dataframe tbody tr th:only-of-type {\n",
              "        vertical-align: middle;\n",
              "    }\n",
              "\n",
              "    .dataframe tbody tr th {\n",
              "        vertical-align: top;\n",
              "    }\n",
              "\n",
              "    .dataframe thead th {\n",
              "        text-align: right;\n",
              "    }\n",
              "</style>\n",
              "<table border=\"1\" class=\"dataframe\">\n",
              "  <thead>\n",
              "    <tr style=\"text-align: right;\">\n",
              "      <th></th>\n",
              "      <th>deposit</th>\n",
              "      <th>count</th>\n",
              "    </tr>\n",
              "  </thead>\n",
              "  <tbody>\n",
              "    <tr>\n",
              "      <th>0</th>\n",
              "      <td>no</td>\n",
              "      <td>5873</td>\n",
              "    </tr>\n",
              "    <tr>\n",
              "      <th>1</th>\n",
              "      <td>yes</td>\n",
              "      <td>5289</td>\n",
              "    </tr>\n",
              "  </tbody>\n",
              "</table>\n",
              "</div>"
            ],
            "text/plain": [
              "  deposit  count\n",
              "0      no   5873\n",
              "1     yes   5289"
            ]
          },
          "metadata": {
            "tags": []
          },
          "execution_count": 26
        }
      ]
    },
    {
      "cell_type": "code",
      "metadata": {
        "id": "5pfpmcIQqsZA"
      },
      "source": [
        "from pyspark.ml.feature import StringIndexer\n",
        "indexer = StringIndexer()\n",
        "\n",
        "df1 = df\n",
        "\n",
        "for index in range(len(df1.columns)):\n",
        "  new_name = df.columns[index]+'_'\n",
        "  indexer.setInputCol(df.columns[index]).setOutputCol(new_name)\n",
        "  df1 = indexer.fit(df1).transform(df1)"
      ],
      "execution_count": null,
      "outputs": []
    },
    {
      "cell_type": "code",
      "metadata": {
        "colab": {
          "base_uri": "https://localhost:8080/"
        },
        "id": "SrklOZxCry4f",
        "outputId": "e9c80ecb-2d73-4754-97ea-15318e0b2da7"
      },
      "source": [
        "df1.show()"
      ],
      "execution_count": null,
      "outputs": [
        {
          "output_type": "stream",
          "text": [
            "+---+-----------+--------+---------+-------+-------+-------+----+-------+---+-----+--------+--------+-----+--------+--------+-------+----+----+--------+----------+--------+--------+--------+-----+--------+----+------+---------+---------+------+---------+---------+--------+\n",
            "|age|        job| marital|education|default|balance|housing|loan|contact|day|month|duration|campaign|pdays|previous|poutcome|deposit|age_|job_|marital_|education_|default_|balance_|housing_|loan_|contact_|day_|month_|duration_|campaign_|pdays_|previous_|poutcome_|deposit_|\n",
            "+---+-----------+--------+---------+-------+-------+-------+----+-------+---+-----+--------+--------+-----+--------+--------+-------+----+----+--------+----------+--------+--------+--------+-----+--------+----+------+---------+---------+------+---------+---------+--------+\n",
            "| 59|     admin.| married|secondary|     no|   2343|    yes|  no|unknown|  5|  may|    1042|       1|   -1|       0| unknown|    yes|31.0| 3.0|     0.0|       0.0|     0.0|  2746.0|     1.0|  0.0|     1.0| 3.0|   0.0|    788.0|      0.0|   0.0|      0.0|      0.0|     1.0|\n",
            "| 56|     admin.| married|secondary|     no|     45|     no|  no|unknown|  5|  may|    1467|       1|   -1|       0| unknown|    yes|32.0| 3.0|     0.0|       0.0|     0.0|   436.0|     0.0|  0.0|     1.0| 3.0|   0.0|   1004.0|      0.0|   0.0|      0.0|      0.0|     1.0|\n",
            "| 41| technician| married|secondary|     no|   1270|    yes|  no|unknown|  5|  may|    1389|       1|   -1|       0| unknown|    yes|12.0| 2.0|     0.0|       0.0|     0.0|   680.0|     1.0|  0.0|     1.0| 3.0|   0.0|    999.0|      0.0|   0.0|      0.0|      0.0|     1.0|\n",
            "| 55|   services| married|secondary|     no|   2476|    yes|  no|unknown|  5|  may|     579|       1|   -1|       0| unknown|    yes|26.0| 4.0|     0.0|       0.0|     0.0|  2787.0|     1.0|  0.0|     1.0| 3.0|   0.0|    563.0|      0.0|   0.0|      0.0|      0.0|     1.0|\n",
            "| 54|     admin.| married| tertiary|     no|    184|     no|  no|unknown|  5|  may|     673|       2|   -1|       0| unknown|    yes|29.0| 3.0|     0.0|       1.0|     0.0|   285.0|     0.0|  0.0|     1.0| 3.0|   0.0|    643.0|      1.0|   0.0|      0.0|      0.0|     1.0|\n",
            "| 42| management|  single| tertiary|     no|      0|    yes| yes|unknown|  5|  may|     562|       2|   -1|       0| unknown|    yes|13.0| 0.0|     1.0|       1.0|     0.0|     0.0|     1.0|  1.0|     1.0| 3.0|   0.0|    393.0|      1.0|   0.0|      0.0|      0.0|     1.0|\n",
            "| 56| management| married| tertiary|     no|    830|    yes| yes|unknown|  6|  may|    1201|       1|   -1|       0| unknown|    yes|32.0| 0.0|     0.0|       1.0|     0.0|   848.0|     1.0|  1.0|     1.0| 8.0|   0.0|    971.0|      0.0|   0.0|      0.0|      0.0|     1.0|\n",
            "| 60|    retired|divorced|secondary|     no|    545|    yes|  no|unknown|  6|  may|    1030|       1|   -1|       0| unknown|    yes|33.0| 5.0|     2.0|       0.0|     0.0|  1152.0|     1.0|  0.0|     1.0| 8.0|   0.0|    688.0|      0.0|   0.0|      0.0|      0.0|     1.0|\n",
            "| 37| technician| married|secondary|     no|      1|    yes|  no|unknown|  6|  may|     608|       1|   -1|       0| unknown|    yes| 7.0| 2.0|     0.0|       0.0|     0.0|     1.0|     1.0|  0.0|     1.0| 8.0|   0.0|    395.0|      0.0|   0.0|      0.0|      0.0|     1.0|\n",
            "| 28|   services|  single|secondary|     no|   5090|    yes|  no|unknown|  6|  may|    1297|       3|   -1|       0| unknown|    yes|14.0| 4.0|     1.0|       0.0|     0.0|  3388.0|     1.0|  0.0|     1.0| 8.0|   0.0|    985.0|      2.0|   0.0|      0.0|      0.0|     1.0|\n",
            "| 38|     admin.|  single|secondary|     no|    100|    yes|  no|unknown|  7|  may|     786|       1|   -1|       0| unknown|    yes| 8.0| 3.0|     1.0|       0.0|     0.0|    78.0|     1.0|  0.0|     1.0|16.0|   0.0|    866.0|      0.0|   0.0|      0.0|      0.0|     1.0|\n",
            "| 30|blue-collar| married|secondary|     no|    309|    yes|  no|unknown|  7|  may|    1574|       2|   -1|       0| unknown|    yes| 5.0| 1.0|     0.0|       0.0|     0.0|    91.0|     1.0|  0.0|     1.0|16.0|   0.0|   1013.0|      1.0|   0.0|      0.0|      0.0|     1.0|\n",
            "| 29| management| married| tertiary|     no|    199|    yes| yes|unknown|  7|  may|    1689|       4|   -1|       0| unknown|    yes|10.0| 0.0|     0.0|       1.0|     0.0|   151.0|     1.0|  1.0|     1.0|16.0|   0.0|   1309.0|      3.0|   0.0|      0.0|      0.0|     1.0|\n",
            "| 46|blue-collar|  single| tertiary|     no|    460|    yes|  no|unknown|  7|  may|    1102|       2|   -1|       0| unknown|    yes|15.0| 1.0|     1.0|       1.0|     0.0|  1131.0|     1.0|  0.0|     1.0|16.0|   0.0|    949.0|      1.0|   0.0|      0.0|      0.0|     1.0|\n",
            "| 31| technician|  single| tertiary|     no|    703|    yes|  no|unknown|  8|  may|     943|       2|   -1|       0| unknown|    yes| 0.0| 2.0|     1.0|       1.0|     0.0|   184.0|     1.0|  0.0|     1.0|10.0|   0.0|    903.0|      1.0|   0.0|      0.0|      0.0|     1.0|\n",
            "| 35| management|divorced| tertiary|     no|   3837|    yes|  no|unknown|  8|  may|    1084|       1|   -1|       0| unknown|    yes| 4.0| 0.0|     2.0|       1.0|     0.0|  3154.0|     1.0|  0.0|     1.0|10.0|   0.0|    941.0|      0.0|   0.0|      0.0|      0.0|     1.0|\n",
            "| 32|blue-collar|  single|  primary|     no|    611|    yes|  no|unknown|  8|  may|     541|       3|   -1|       0| unknown|    yes| 1.0| 1.0|     1.0|       2.0|     0.0|   812.0|     1.0|  0.0|     1.0|10.0|   0.0|    619.0|      2.0|   0.0|      0.0|      0.0|     1.0|\n",
            "| 49|   services| married|secondary|     no|     -8|    yes|  no|unknown|  8|  may|    1119|       1|   -1|       0| unknown|    yes|20.0| 4.0|     0.0|       0.0|     0.0|   915.0|     1.0|  0.0|     1.0|10.0|   0.0|    951.0|      0.0|   0.0|      0.0|      0.0|     1.0|\n",
            "| 41|     admin.| married|secondary|     no|     55|    yes|  no|unknown|  8|  may|    1120|       2|   -1|       0| unknown|    yes|12.0| 3.0|     0.0|       0.0|     0.0|   449.0|     1.0|  0.0|     1.0|10.0|   0.0|    693.0|      1.0|   0.0|      0.0|      0.0|     1.0|\n",
            "| 49|     admin.|divorced|secondary|     no|    168|    yes| yes|unknown|  8|  may|     513|       1|   -1|       0| unknown|    yes|20.0| 3.0|     2.0|       0.0|     0.0|    82.0|     1.0|  1.0|     1.0|10.0|   0.0|    459.0|      0.0|   0.0|      0.0|      0.0|     1.0|\n",
            "+---+-----------+--------+---------+-------+-------+-------+----+-------+---+-----+--------+--------+-----+--------+--------+-------+----+----+--------+----------+--------+--------+--------+-----+--------+----+------+---------+---------+------+---------+---------+--------+\n",
            "only showing top 20 rows\n",
            "\n"
          ],
          "name": "stdout"
        }
      ]
    },
    {
      "cell_type": "code",
      "metadata": {
        "colab": {
          "base_uri": "https://localhost:8080/"
        },
        "id": "LKEGh9a9s3Jk",
        "outputId": "65cb34c2-4fee-40ab-e431-e7c73a3a8a92"
      },
      "source": [
        "class_name = 'deposit_'\n",
        "features_names = df1.columns[17:-1]\n",
        "print(features_names)"
      ],
      "execution_count": null,
      "outputs": [
        {
          "output_type": "stream",
          "text": [
            "['age_', 'job_', 'marital_', 'education_', 'default_', 'balance_', 'housing_', 'loan_', 'contact_', 'day_', 'month_', 'duration_', 'campaign_', 'pdays_', 'previous_', 'poutcome_']\n"
          ],
          "name": "stdout"
        }
      ]
    },
    {
      "cell_type": "code",
      "metadata": {
        "id": "5BR6FZYKwfOE"
      },
      "source": [
        "from pyspark.ml.feature import VectorAssembler\n",
        "\n",
        "assembler = VectorAssembler()\n",
        "assembler.setInputCols(features_names).setOutputCol('features')\n",
        "transformed_data = assembler.transform(df1)"
      ],
      "execution_count": null,
      "outputs": []
    },
    {
      "cell_type": "code",
      "metadata": {
        "colab": {
          "base_uri": "https://localhost:8080/"
        },
        "id": "JlP47w34wi4z",
        "outputId": "77c9655c-9526-421c-a803-3c7489dfcbe2"
      },
      "source": [
        "transformed_data.show()"
      ],
      "execution_count": null,
      "outputs": [
        {
          "output_type": "stream",
          "text": [
            "+---+-----------+--------+---------+-------+-------+-------+----+-------+---+-----+--------+--------+-----+--------+--------+-------+----+----+--------+----------+--------+--------+--------+-----+--------+----+------+---------+---------+------+---------+---------+--------+--------------------+\n",
            "|age|        job| marital|education|default|balance|housing|loan|contact|day|month|duration|campaign|pdays|previous|poutcome|deposit|age_|job_|marital_|education_|default_|balance_|housing_|loan_|contact_|day_|month_|duration_|campaign_|pdays_|previous_|poutcome_|deposit_|            features|\n",
            "+---+-----------+--------+---------+-------+-------+-------+----+-------+---+-----+--------+--------+-----+--------+--------+-------+----+----+--------+----------+--------+--------+--------+-----+--------+----+------+---------+---------+------+---------+---------+--------+--------------------+\n",
            "| 59|     admin.| married|secondary|     no|   2343|    yes|  no|unknown|  5|  may|    1042|       1|   -1|       0| unknown|    yes|31.0| 3.0|     0.0|       0.0|     0.0|  2746.0|     1.0|  0.0|     1.0| 3.0|   0.0|    788.0|      0.0|   0.0|      0.0|      0.0|     1.0|(16,[0,1,5,6,8,9,...|\n",
            "| 56|     admin.| married|secondary|     no|     45|     no|  no|unknown|  5|  may|    1467|       1|   -1|       0| unknown|    yes|32.0| 3.0|     0.0|       0.0|     0.0|   436.0|     0.0|  0.0|     1.0| 3.0|   0.0|   1004.0|      0.0|   0.0|      0.0|      0.0|     1.0|(16,[0,1,5,8,9,11...|\n",
            "| 41| technician| married|secondary|     no|   1270|    yes|  no|unknown|  5|  may|    1389|       1|   -1|       0| unknown|    yes|12.0| 2.0|     0.0|       0.0|     0.0|   680.0|     1.0|  0.0|     1.0| 3.0|   0.0|    999.0|      0.0|   0.0|      0.0|      0.0|     1.0|(16,[0,1,5,6,8,9,...|\n",
            "| 55|   services| married|secondary|     no|   2476|    yes|  no|unknown|  5|  may|     579|       1|   -1|       0| unknown|    yes|26.0| 4.0|     0.0|       0.0|     0.0|  2787.0|     1.0|  0.0|     1.0| 3.0|   0.0|    563.0|      0.0|   0.0|      0.0|      0.0|     1.0|(16,[0,1,5,6,8,9,...|\n",
            "| 54|     admin.| married| tertiary|     no|    184|     no|  no|unknown|  5|  may|     673|       2|   -1|       0| unknown|    yes|29.0| 3.0|     0.0|       1.0|     0.0|   285.0|     0.0|  0.0|     1.0| 3.0|   0.0|    643.0|      1.0|   0.0|      0.0|      0.0|     1.0|(16,[0,1,3,5,8,9,...|\n",
            "| 42| management|  single| tertiary|     no|      0|    yes| yes|unknown|  5|  may|     562|       2|   -1|       0| unknown|    yes|13.0| 0.0|     1.0|       1.0|     0.0|     0.0|     1.0|  1.0|     1.0| 3.0|   0.0|    393.0|      1.0|   0.0|      0.0|      0.0|     1.0|(16,[0,2,3,6,7,8,...|\n",
            "| 56| management| married| tertiary|     no|    830|    yes| yes|unknown|  6|  may|    1201|       1|   -1|       0| unknown|    yes|32.0| 0.0|     0.0|       1.0|     0.0|   848.0|     1.0|  1.0|     1.0| 8.0|   0.0|    971.0|      0.0|   0.0|      0.0|      0.0|     1.0|(16,[0,3,5,6,7,8,...|\n",
            "| 60|    retired|divorced|secondary|     no|    545|    yes|  no|unknown|  6|  may|    1030|       1|   -1|       0| unknown|    yes|33.0| 5.0|     2.0|       0.0|     0.0|  1152.0|     1.0|  0.0|     1.0| 8.0|   0.0|    688.0|      0.0|   0.0|      0.0|      0.0|     1.0|(16,[0,1,2,5,6,8,...|\n",
            "| 37| technician| married|secondary|     no|      1|    yes|  no|unknown|  6|  may|     608|       1|   -1|       0| unknown|    yes| 7.0| 2.0|     0.0|       0.0|     0.0|     1.0|     1.0|  0.0|     1.0| 8.0|   0.0|    395.0|      0.0|   0.0|      0.0|      0.0|     1.0|(16,[0,1,5,6,8,9,...|\n",
            "| 28|   services|  single|secondary|     no|   5090|    yes|  no|unknown|  6|  may|    1297|       3|   -1|       0| unknown|    yes|14.0| 4.0|     1.0|       0.0|     0.0|  3388.0|     1.0|  0.0|     1.0| 8.0|   0.0|    985.0|      2.0|   0.0|      0.0|      0.0|     1.0|(16,[0,1,2,5,6,8,...|\n",
            "| 38|     admin.|  single|secondary|     no|    100|    yes|  no|unknown|  7|  may|     786|       1|   -1|       0| unknown|    yes| 8.0| 3.0|     1.0|       0.0|     0.0|    78.0|     1.0|  0.0|     1.0|16.0|   0.0|    866.0|      0.0|   0.0|      0.0|      0.0|     1.0|(16,[0,1,2,5,6,8,...|\n",
            "| 30|blue-collar| married|secondary|     no|    309|    yes|  no|unknown|  7|  may|    1574|       2|   -1|       0| unknown|    yes| 5.0| 1.0|     0.0|       0.0|     0.0|    91.0|     1.0|  0.0|     1.0|16.0|   0.0|   1013.0|      1.0|   0.0|      0.0|      0.0|     1.0|(16,[0,1,5,6,8,9,...|\n",
            "| 29| management| married| tertiary|     no|    199|    yes| yes|unknown|  7|  may|    1689|       4|   -1|       0| unknown|    yes|10.0| 0.0|     0.0|       1.0|     0.0|   151.0|     1.0|  1.0|     1.0|16.0|   0.0|   1309.0|      3.0|   0.0|      0.0|      0.0|     1.0|(16,[0,3,5,6,7,8,...|\n",
            "| 46|blue-collar|  single| tertiary|     no|    460|    yes|  no|unknown|  7|  may|    1102|       2|   -1|       0| unknown|    yes|15.0| 1.0|     1.0|       1.0|     0.0|  1131.0|     1.0|  0.0|     1.0|16.0|   0.0|    949.0|      1.0|   0.0|      0.0|      0.0|     1.0|[15.0,1.0,1.0,1.0...|\n",
            "| 31| technician|  single| tertiary|     no|    703|    yes|  no|unknown|  8|  may|     943|       2|   -1|       0| unknown|    yes| 0.0| 2.0|     1.0|       1.0|     0.0|   184.0|     1.0|  0.0|     1.0|10.0|   0.0|    903.0|      1.0|   0.0|      0.0|      0.0|     1.0|(16,[1,2,3,5,6,8,...|\n",
            "| 35| management|divorced| tertiary|     no|   3837|    yes|  no|unknown|  8|  may|    1084|       1|   -1|       0| unknown|    yes| 4.0| 0.0|     2.0|       1.0|     0.0|  3154.0|     1.0|  0.0|     1.0|10.0|   0.0|    941.0|      0.0|   0.0|      0.0|      0.0|     1.0|(16,[0,2,3,5,6,8,...|\n",
            "| 32|blue-collar|  single|  primary|     no|    611|    yes|  no|unknown|  8|  may|     541|       3|   -1|       0| unknown|    yes| 1.0| 1.0|     1.0|       2.0|     0.0|   812.0|     1.0|  0.0|     1.0|10.0|   0.0|    619.0|      2.0|   0.0|      0.0|      0.0|     1.0|[1.0,1.0,1.0,2.0,...|\n",
            "| 49|   services| married|secondary|     no|     -8|    yes|  no|unknown|  8|  may|    1119|       1|   -1|       0| unknown|    yes|20.0| 4.0|     0.0|       0.0|     0.0|   915.0|     1.0|  0.0|     1.0|10.0|   0.0|    951.0|      0.0|   0.0|      0.0|      0.0|     1.0|(16,[0,1,5,6,8,9,...|\n",
            "| 41|     admin.| married|secondary|     no|     55|    yes|  no|unknown|  8|  may|    1120|       2|   -1|       0| unknown|    yes|12.0| 3.0|     0.0|       0.0|     0.0|   449.0|     1.0|  0.0|     1.0|10.0|   0.0|    693.0|      1.0|   0.0|      0.0|      0.0|     1.0|(16,[0,1,5,6,8,9,...|\n",
            "| 49|     admin.|divorced|secondary|     no|    168|    yes| yes|unknown|  8|  may|     513|       1|   -1|       0| unknown|    yes|20.0| 3.0|     2.0|       0.0|     0.0|    82.0|     1.0|  1.0|     1.0|10.0|   0.0|    459.0|      0.0|   0.0|      0.0|      0.0|     1.0|(16,[0,1,2,5,6,7,...|\n",
            "+---+-----------+--------+---------+-------+-------+-------+----+-------+---+-----+--------+--------+-----+--------+--------+-------+----+----+--------+----------+--------+--------+--------+-----+--------+----+------+---------+---------+------+---------+---------+--------+--------------------+\n",
            "only showing top 20 rows\n",
            "\n"
          ],
          "name": "stdout"
        }
      ]
    },
    {
      "cell_type": "code",
      "metadata": {
        "id": "Ah1myvCWw9TS"
      },
      "source": [
        "#split data\n",
        "(training_data, test_data) = transformed_data.randomSplit([0.8,0.2])"
      ],
      "execution_count": null,
      "outputs": []
    },
    {
      "cell_type": "code",
      "metadata": {
        "id": "owAWCqgFw-_w"
      },
      "source": [
        "from pyspark.ml.classification import LogisticRegression\n",
        "model = LogisticRegression(featuresCol = 'features',labelCol=class_name, maxIter=30)"
      ],
      "execution_count": null,
      "outputs": []
    },
    {
      "cell_type": "code",
      "metadata": {
        "id": "-QYcg-UHxAGz"
      },
      "source": [
        "M = model.fit(training_data)"
      ],
      "execution_count": null,
      "outputs": []
    },
    {
      "cell_type": "code",
      "metadata": {
        "id": "bziAVyNSxC-u"
      },
      "source": [
        "# Predict with the test dataset\n",
        "predictions = M.transform(test_data)"
      ],
      "execution_count": null,
      "outputs": []
    },
    {
      "cell_type": "code",
      "metadata": {
        "colab": {
          "base_uri": "https://localhost:8080/"
        },
        "id": "Sxzx_jnpxFED",
        "outputId": "4907d43d-7407-4df5-a71b-8fc7f434cce8"
      },
      "source": [
        "from pyspark.ml.evaluation import MulticlassClassificationEvaluator\n",
        "\n",
        "multi_evaluator = MulticlassClassificationEvaluator(labelCol = 'deposit_', metricName = 'accuracy')\n",
        "print('Logistic Regression Accuracy:', multi_evaluator.evaluate(predictions))"
      ],
      "execution_count": null,
      "outputs": [
        {
          "output_type": "stream",
          "text": [
            "Logistic Regression Accuracy: 0.7892857142857143\n"
          ],
          "name": "stdout"
        }
      ]
    }
  ]
}