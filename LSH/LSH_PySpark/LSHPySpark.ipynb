{
  "nbformat": 4,
  "nbformat_minor": 0,
  "metadata": {
    "colab": {
      "name": "LSHPySpark.ipynb",
      "provenance": [],
      "collapsed_sections": []
    },
    "kernelspec": {
      "name": "python3",
      "display_name": "Python 3"
    },
    "language_info": {
      "name": "python"
    }
  },
  "cells": [
    {
      "cell_type": "code",
      "metadata": {
        "colab": {
          "base_uri": "https://localhost:8080/"
        },
        "id": "WuNkxluzkgI1",
        "outputId": "074bf5fb-58d7-4fa3-c98f-5234b76476a4"
      },
      "source": [
        "!pip install pyspark"
      ],
      "execution_count": 1,
      "outputs": [
        {
          "output_type": "stream",
          "text": [
            "Collecting pyspark\n",
            "\u001b[?25l  Downloading https://files.pythonhosted.org/packages/45/b0/9d6860891ab14a39d4bddf80ba26ce51c2f9dc4805e5c6978ac0472c120a/pyspark-3.1.1.tar.gz (212.3MB)\n",
            "\u001b[K     |████████████████████████████████| 212.3MB 68kB/s \n",
            "\u001b[?25hCollecting py4j==0.10.9\n",
            "\u001b[?25l  Downloading https://files.pythonhosted.org/packages/9e/b6/6a4fb90cd235dc8e265a6a2067f2a2c99f0d91787f06aca4bcf7c23f3f80/py4j-0.10.9-py2.py3-none-any.whl (198kB)\n",
            "\u001b[K     |████████████████████████████████| 204kB 19.1MB/s \n",
            "\u001b[?25hBuilding wheels for collected packages: pyspark\n",
            "  Building wheel for pyspark (setup.py) ... \u001b[?25l\u001b[?25hdone\n",
            "  Created wheel for pyspark: filename=pyspark-3.1.1-py2.py3-none-any.whl size=212767604 sha256=34c6f117726b15c203c8b0f233bf05a717afb9e3c9c6a15a6602119672b6b878\n",
            "  Stored in directory: /root/.cache/pip/wheels/0b/90/c0/01de724414ef122bd05f056541fb6a0ecf47c7ca655f8b3c0f\n",
            "Successfully built pyspark\n",
            "Installing collected packages: py4j, pyspark\n",
            "Successfully installed py4j-0.10.9 pyspark-3.1.1\n"
          ],
          "name": "stdout"
        }
      ]
    },
    {
      "cell_type": "code",
      "metadata": {
        "id": "fX8zxEk2lTK4"
      },
      "source": [
        "import pyspark\n",
        "import pandas as pd\n",
        "from pyspark import SparkConf, SparkContext\n",
        "from nltk.util import ngrams\n",
        "from random import shuffle, randint\n",
        "import math, time"
      ],
      "execution_count": 2,
      "outputs": []
    },
    {
      "cell_type": "code",
      "metadata": {
        "id": "z4DltgMZn-yB"
      },
      "source": [
        "sc = SparkContext(master=\"local\" , appName=\"LSH\")\n",
        "#sc.stop()"
      ],
      "execution_count": 33,
      "outputs": []
    },
    {
      "cell_type": "code",
      "metadata": {
        "id": "Bvj7TlRfqcQW"
      },
      "source": [
        "def hashString(text):\n",
        "  return abs(hash(text)) % (10 ** 8)"
      ],
      "execution_count": 126,
      "outputs": []
    },
    {
      "cell_type": "code",
      "metadata": {
        "colab": {
          "base_uri": "https://localhost:8080/",
          "height": 103
        },
        "id": "S1gA2eKkpDH5",
        "outputId": "30ca277e-887c-4dd8-bfb4-ec92ff76b958"
      },
      "source": [
        "data = sc.textFile (\"dataset.tsv\")\n",
        "header = data.first() #extract header\n",
        "#remove header\n",
        "data = data.filter(lambda row : row != header) \n",
        "data = data.map(lambda line: line.split(\"\\t\"))\n",
        "#just get title and description\n",
        "data = data.map(lambda itemInLine: itemInLine[0]+itemInLine[1])\n",
        "data.collect()[0]"
      ],
      "execution_count": 127,
      "outputs": [
        {
          "output_type": "execute_result",
          "data": {
            "application/vnd.google.colaboratory.intrinsic+json": {
              "type": "string"
            },
            "text/plain": [
              "\"Studio accessoriato vicino metro A Furio Camillo Affitto studio a professionisti preferibilmente medico sanitari, Metro A fermata Furio Camillo 100 metri. Fermata bus 87 e 625 10 metri, fronte Villa Lazzaroni. Luminoso, finemente ristrutturato, pavimenti in parquet con aria condizionata autonoma doppio uso, luci a led, connessione internet wi-fi. E' previsto uso bagno, sala d'attesa, area ristoro, tutto con pavimento in parquet. E' possibile condividere lo studio con altri professionisti se gradito. Villa Lazzaroni ampia possibilitÃ\\xa0 di parcheggio. \""
            ]
          },
          "metadata": {
            "tags": []
          },
          "execution_count": 127
        }
      ]
    },
    {
      "cell_type": "markdown",
      "metadata": {
        "id": "qdwhe4-O7nMf"
      },
      "source": [
        "Shingles"
      ]
    },
    {
      "cell_type": "code",
      "metadata": {
        "id": "dCmDnih-4Gbl"
      },
      "source": [
        "def splitToken(word, kGram):\n",
        "  specialWords = '[\\/.@]'\n",
        "  text = word.lower()\n",
        "  #remove special word\n",
        "  for word in specialWords:\n",
        "    text = text.replace(word, ' ')\n",
        "  nGram = getData(ngrams(text.split(), kGram))\n",
        "  shinglesText = []\n",
        "  for grams in nGram:\n",
        "    shinglesText.append(' '.join(grams))\n",
        "  return shinglesText\n",
        "\n",
        "def getData(gen):\n",
        "      try:\n",
        "        for elem in gen:\n",
        "          yield elem\n",
        "      except (RuntimeError, StopIteration):\n",
        "          return"
      ],
      "execution_count": 128,
      "outputs": []
    },
    {
      "cell_type": "code",
      "metadata": {
        "id": "sY5V9BKCvcV0"
      },
      "source": [
        "shinglingSize = 10\n",
        "#all shingles\n",
        "listShingles = data.flatMap(lambda line : splitToken(line, shinglingSize))\n",
        "listShingles = listShingles.map(lambda eachShingles : ''.join(eachShingles))\n",
        "listShingles = listShingles.distinct()\n",
        "\n",
        "#shingles of each docs\n",
        "listShingesOfEachDocs = data.map(lambda line : splitToken(line, shinglingSize))"
      ],
      "execution_count": 130,
      "outputs": []
    },
    {
      "cell_type": "code",
      "metadata": {
        "colab": {
          "base_uri": "https://localhost:8080/"
        },
        "id": "kTATE3mu0BFN",
        "outputId": "5360e34c-cf84-4d27-8d3b-a0500f7f8127"
      },
      "source": [
        "print(\"Tranfer singles\")\n",
        "startTime = time.time()\n",
        "shingles = listShingles.collect()\n",
        "shingesOfEachDocs = listShingesOfEachDocs.collect()\n",
        "endTime = time.time()\n",
        "print(\"Time: \"+str((endTime-startTime)))\n",
        "#print(listShingles.count())"
      ],
      "execution_count": 131,
      "outputs": [
        {
          "output_type": "stream",
          "text": [
            "Tranfer singles\n",
            "Time: 3.037964344024658\n"
          ],
          "name": "stdout"
        }
      ]
    },
    {
      "cell_type": "code",
      "metadata": {
        "colab": {
          "base_uri": "https://localhost:8080/",
          "height": 35
        },
        "id": "iSUPxoRDquxQ",
        "outputId": "bed066eb-08b1-4f9f-b9a2-834f5207f541"
      },
      "source": [
        "listShingles.collect()[1]"
      ],
      "execution_count": 132,
      "outputs": [
        {
          "output_type": "execute_result",
          "data": {
            "application/vnd.google.colaboratory.intrinsic+json": {
              "type": "string"
            },
            "text/plain": [
              "'accessoriato vicino metro a furio camillo affitto studio a professionisti'"
            ]
          },
          "metadata": {
            "tags": []
          },
          "execution_count": 132
        }
      ]
    },
    {
      "cell_type": "markdown",
      "metadata": {
        "id": "OW7eRndUlcWc"
      },
      "source": [
        "Min Hashing"
      ]
    },
    {
      "cell_type": "code",
      "metadata": {
        "id": "EC-qKpXGlj5V"
      },
      "source": [
        "class MinHash:\n",
        "  def __init__(self, sig_size, listShingles):\n",
        "    self.sig_size = sig_size\n",
        "    self.listShingles = listShingles\n",
        "    self.hash_functions = []\n",
        "    self.createPermuation()\n",
        "    #print(self.hash_functions)\n",
        "  \n",
        "  #create array permutation\n",
        "  def createPermuation(self):\n",
        "    #create array from 1 to len(listShingles)\n",
        "    for i in range(0,self.sig_size):\n",
        "      arrayNumberInPermution = list(range(1,len(self.listShingles)+1))\n",
        "      shuffle(arrayNumberInPermution)\n",
        "      self.hash_functions.append(arrayNumberInPermution)\n",
        "  \n",
        "  def createMaxtrixTrueFalse(self, s):\n",
        "    data = {}\n",
        "    columnName = 'set' + str(1)\n",
        "    arrayTrueFalse = []\n",
        "    print(s)\n",
        "    for shingle in self.listShingles:\n",
        "      if (shingle in s):\n",
        "        arrayTrueFalse.append(1)\n",
        "      else:\n",
        "        arrayTrueFalse.append(0)\n",
        "    data[columnName] = arrayTrueFalse\n",
        "    #print(pd.DataFrame(data))\n",
        "    return pd.DataFrame(data) \n",
        "\n",
        "  def computeSetSignature(self, singlesOfDoc):\n",
        "    set_sig = []\n",
        "    maxtrixTrueFalse = self.createMaxtrixTrueFalse(singlesOfDoc)\n",
        "    #just get only row is 1\n",
        "    maxtrixTrue = maxtrixTrueFalse[maxtrixTrueFalse['set1']==1]\n",
        "    #run each column in permutation and check get value min\n",
        "    for columnPermutation in self.hash_functions:\n",
        "      min_hash = math.inf\n",
        "      for index, row in maxtrixTrue.iterrows():\n",
        "          if (columnPermutation[index] < min_hash):\n",
        "            min_hash = columnPermutation[index]\n",
        "      set_sig.append(min_hash)\n",
        "    return set_sig"
      ],
      "execution_count": 133,
      "outputs": []
    },
    {
      "cell_type": "code",
      "metadata": {
        "id": "BHycRHu_loIB"
      },
      "source": [
        "signatureSize = 10\n",
        "minHash = MinHash(signatureSize, listShingles.collect())\n",
        "singatureMaxtrix = listShingesOfEachDocs.map(lambda setShingle: minHash.computeSetSignature(setShingle))"
      ],
      "execution_count": 135,
      "outputs": []
    },
    {
      "cell_type": "code",
      "metadata": {
        "colab": {
          "base_uri": "https://localhost:8080/"
        },
        "id": "-10UcEN7nACz",
        "outputId": "58384d19-c3e3-456a-9580-a9fc1f71d9fd"
      },
      "source": [
        "print(\"Tranfer Min Hash\")\n",
        "startTime = time.time()\n",
        "signature = singatureMaxtrix.collect()\n",
        "endTime = time.time()\n",
        "print(\"Time: \"+str((endTime-startTime)))"
      ],
      "execution_count": 136,
      "outputs": [
        {
          "output_type": "stream",
          "text": [
            "Tranfer Min Hash\n",
            "Time: 469.226548910141\n"
          ],
          "name": "stdout"
        }
      ]
    },
    {
      "cell_type": "code",
      "metadata": {
        "colab": {
          "base_uri": "https://localhost:8080/"
        },
        "id": "d777Hf3DpzI_",
        "outputId": "7ecc76de-f939-46c0-9704-cd7866cb4bb1"
      },
      "source": [
        "signature[0]"
      ],
      "execution_count": 137,
      "outputs": [
        {
          "output_type": "execute_result",
          "data": {
            "text/plain": [
              "[475, 767, 960, 1571, 1064, 180, 780, 1530, 702, 5126]"
            ]
          },
          "metadata": {
            "tags": []
          },
          "execution_count": 137
        }
      ]
    },
    {
      "cell_type": "markdown",
      "metadata": {
        "id": "77iZSxpkozvS"
      },
      "source": [
        "LSH"
      ]
    },
    {
      "cell_type": "code",
      "metadata": {
        "id": "dqKs-AFsorR6"
      },
      "source": [
        "class LSH:\n",
        "  def __init__(self, threshold=0.8):\n",
        "    self.threshold = threshold\n",
        "  \n",
        "  #create band with number of bands (bands_nr)\n",
        "  #divide item in maxtrix into bands_nr of bands\n",
        "  def divideMatrixToNBands(self, sigMatrix, bandsNr, signLen):\n",
        "    r = int(signLen/bandsNr)#number of rows in each band\n",
        "    bands = {}\n",
        "    for i in range(0, bandsNr):\n",
        "      bands[i] = []\n",
        "    #print(sigMatrix[:10])\n",
        "    for signature in sigMatrix:\n",
        "      for i in range(0, bandsNr):\n",
        "        idx = i*r\n",
        "        for x in signature[idx:idx+r]:\n",
        "          bands[i].append(str(x))\n",
        "    #print(bands)\n",
        "    return bands\n",
        "  \n",
        "  #hash item in band into buckets\n",
        "  def hashItemToBucketOfBand(self, band):\n",
        "    buckets = {}\n",
        "    #docId is index of doc in dataset\n",
        "    for docId in range(0,len(band)):\n",
        "      value = hashString(band[docId])\n",
        "      if value not in buckets:\n",
        "        buckets[value] = [docId]\n",
        "      else:\n",
        "        buckets[value].append(docId)\n",
        "    #print(buckets)\n",
        "    return buckets\n",
        "\n",
        "  #pair group\n",
        "  def groupPairItemCandidate(self, buckets):\n",
        "    candidates = set()\n",
        "    #print(\"-----------------------------------------------\")\n",
        "    #print(buckets)\n",
        "    for bucket, candidateList in buckets.items():\n",
        "      if (len(candidateList) > 1):\n",
        "        for i in range(0, len(candidateList)-1):\n",
        "          for j in range(i+1, len(candidateList)):\n",
        "            pair = tuple(sorted((candidateList[i], candidateList[j])))\n",
        "            candidates.add(pair)\n",
        "    #print(\"Candidates\")\n",
        "    #print(candidates)\n",
        "    return candidates #ie a set of couples, each couple is a candidate pair\n",
        "  \n",
        "  #compair docs\n",
        "  def checkCandidates(self, candidatesList, threshold, sigs):\n",
        "    similar_docs = set()\n",
        "\n",
        "    for similarPair in candidatesList:\n",
        "      docId1 = similarPair[0]\n",
        "      docId2 = similarPair[1]\n",
        "      #print(doc_id_1)\n",
        "      signature1 = set(sigs[docId1])\n",
        "      signature2 = set(sigs[docId2])\n",
        "      js = len(signature1.intersection(signature2)) / len(signature1.union(signature2))\n",
        "\n",
        "      if js >= threshold:\n",
        "        similar_docs.add(tuple(sorted((docId1, docId2))))\n",
        "    return similar_docs\n",
        "  \n",
        "  def getSimilarItems(self, sigMatrix, bandsNr, signLen):\n",
        "    similarDocs = set()\n",
        "    bands = self.divideMatrixToNBands(sigMatrix, bandsNr, signLen)\n",
        "    #print(bands)\n",
        "    for band_id, elements in bands.items():\n",
        "      buckets = self.hashItemToBucketOfBand(elements)\n",
        "      candidates = self.groupPairItemCandidate(buckets)\n",
        "      for sim_tuple in self.checkCandidates(candidates, self.threshold, sigMatrix):\n",
        "        similarDocs.add(sim_tuple)\n",
        "        \n",
        "    return similarDocs"
      ],
      "execution_count": 138,
      "outputs": []
    },
    {
      "cell_type": "code",
      "metadata": {
        "colab": {
          "base_uri": "https://localhost:8080/"
        },
        "id": "ORuHD0ePo4mD",
        "outputId": "ae4bea3e-f8b7-4696-fa27-3fbf3d6e26fa"
      },
      "source": [
        "print(\"Tranfer LSH\")\n",
        "startTime = time.time()\n",
        "bandsNr = 10\n",
        "lsh = LSH(threshold =0.8)\n",
        "lshSimilarItem = lsh.getSimilarItems(signature, bandsNr, signatureSize)\n",
        "endTime = time.time()\n",
        "print(\"Time: \"+str((endTime-startTime)))"
      ],
      "execution_count": 139,
      "outputs": [
        {
          "output_type": "stream",
          "text": [
            "Tranfer LSH\n",
            "Time: 0.7497096061706543\n"
          ],
          "name": "stdout"
        }
      ]
    },
    {
      "cell_type": "code",
      "metadata": {
        "colab": {
          "base_uri": "https://localhost:8080/"
        },
        "id": "3tNW3U1LpReY",
        "outputId": "3b1f98ad-9b39-4f35-8136-f78549b2ec03"
      },
      "source": [
        "for i in range(0,3):\n",
        "  docs = lshSimilarItem.pop()\n",
        "  print(\"Doc \",docs[0],\" :\")\n",
        "  print(data.collect()[docs[0]])\n",
        "  print(\"Doc \",docs[1],\" :\")\n",
        "  print(data.collect()[docs[1]])\n",
        "  print(\"------------------------------------------------------------------------------------\")"
      ],
      "execution_count": 140,
      "outputs": [
        {
          "output_type": "stream",
          "text": [
            "Doc  506  :\n",
            "Avviato studio psicologia mette a disposizione stanze Avviato studio di psicologia mette a disposizione stanze a professionisti della salute (psicologi, medici, nutrizionisti, counselor, fisioterapisti, ecc). Centralissimo (adiacente Metro Spagna), finemente arredato, silenzioso e luminoso. Pulizie e utenze incluse. Si valuta inoltre possibilitÃ  di sinergia professionale \n",
            "Doc  568  :\n",
            "Avviato studio psicologia mette a disposizione stanze Avviato studio di psicologia mette a disposizione stanze a professionisti della salute (psicologi, medici, nutrizionisti, counselor, fisioterapisti, ecc). Centralissimo (adiacente Metro Spagna), finemente arredato, silenzioso e luminoso. Pulizie e utenze incluse. Si valuta inoltre possibilitÃ  di sinergia professionale \n",
            "------------------------------------------------------------------------------------\n",
            "Doc  89  :\n",
            "Negozio 169Mq per laboratorio, ufficio, studio a Roma. Privato affitta negozio 169 mq, al piano terra, ristrutturato, 4 serrande elettriche, citofono esterno e apertura serranda ingresso dall'esterno, con chiave. Locale diviso in zona ingresso, ufficio, direzione, laboratorio, deposito. Ideale per studio medico, laboratorio tecnico assistenza, studio tecnico, legale, riparazioni o rappresentanza con deposito. Categoria C1, impianto riscaldamento / condizionamento per tutti i locali. Impianto allarme nuovo e attivo, con invio SMS in caso di allarme. Impianto elettrico a norma. Impianto elettrico separato per UPS. 2 bagni con antibagno. Impianto telefonico con centralino cablato per 2 linee esterne ed 8 interni. Cablato con 16 prese LAN a muro, tutte convogliate in vano tecnico per Router, Modem, Hub etc, adattissimo per Call Center! Vicinissimo metro Malatesta e fermate autobus. Garage privato ad ore vicinissimo. Locale disponibile da Settembre 2019, pulito, per uso immediato. Possibilita' finanziamento Microcredito a tasso agevolato 1%. \n",
            "Doc  1616  :\n",
            "Negozio 169Mq per laboratorio, ufficio, studio a Roma. Privato affitta negozio 169 mq, al piano terra, ristrutturato, 4 serrande elettriche, citofono esterno e apertura serranda ingresso dall'esterno, con chiave. Locale diviso in zona ingresso, ufficio, direzione, laboratorio, deposito. Ideale per studio medico, laboratorio tecnico assistenza, studio tecnico, legale, riparazioni o rappresentanza con deposito. Categoria C1, impianto riscaldamento / condizionamento per tutti i locali. Impianto allarme nuovo e attivo, con invio SMS in caso di allarme. Impianto elettrico a norma. Impianto elettrico separato per UPS. 2 bagni con antibagno. Impianto telefonico con centralino cablato per 2 linee esterne ed 8 interni. Cablato con 16 prese LAN a muro, tutte convogliate in vano tecnico per Router, Modem, Hub etc, adattissimo per Call Center! Vicinissimo metro Malatesta e fermate autobus. Garage privato ad ore vicinissimo. Locale disponibile da Settembre 2019, pulito, per uso immediato. Possibilita' finanziamento Microcredito a tasso agevolato 1%. \n",
            "------------------------------------------------------------------------------------\n",
            "Doc  1154  :\n",
            "Negozio 169Mq per laboratorio, ufficio, studio a Roma. Privato affitta negozio 169 mq, al piano terra, ristrutturato, 4 serrande elettriche, citofono esterno e apertura serranda ingresso dall'esterno, con chiave. Locale diviso in zona ingresso, ufficio, direzione, laboratorio, deposito. Ideale per studio medico, laboratorio tecnico assistenza, studio tecnico, legale, riparazioni o rappresentanza con deposito. Categoria C1, impianto riscaldamento / condizionamento per tutti i locali. Impianto allarme nuovo e attivo, con invio SMS in caso di allarme. Impianto elettrico a norma. Impianto elettrico separato per UPS. 2 bagni con antibagno. Impianto telefonico con centralino cablato per 2 linee esterne ed 8 interni. Cablato con 16 prese LAN a muro, tutte convogliate in vano tecnico per Router, Modem, Hub etc, adattissimo per Call Center! Vicinissimo metro Malatesta e fermate autobus. Garage privato ad ore vicinissimo. Locale disponibile da Settembre 2019, pulito, per uso immediato. Possibilita' finanziamento Microcredito a tasso agevolato 1%. \n",
            "Doc  1990  :\n",
            "Negozio 169Mq per laboratorio, ufficio, studio a Roma. Privato affitta negozio 169 mq, al piano terra, ristrutturato, 4 serrande elettriche, citofono esterno e apertura serranda ingresso dall'esterno, con chiave. Locale diviso in zona ingresso, ufficio, direzione, laboratorio, deposito. Ideale per studio medico, laboratorio tecnico assistenza, studio tecnico, legale, riparazioni o rappresentanza con deposito. Categoria C1, impianto riscaldamento / condizionamento per tutti i locali. Impianto allarme nuovo e attivo, con invio SMS in caso di allarme. Impianto elettrico a norma. Impianto elettrico separato per UPS. 2 bagni con antibagno. Impianto telefonico con centralino cablato per 2 linee esterne ed 8 interni. Cablato con 16 prese LAN a muro, tutte convogliate in vano tecnico per Router, Modem, Hub etc, adattissimo per Call Center! Vicinissimo metro Malatesta e fermate autobus. Garage privato ad ore vicinissimo. Locale disponibile da Settembre 2019, pulito, per uso immediato. Possibilita' finanziamento Microcredito a tasso agevolato 1%. \n",
            "------------------------------------------------------------------------------------\n"
          ],
          "name": "stdout"
        }
      ]
    }
  ]
}