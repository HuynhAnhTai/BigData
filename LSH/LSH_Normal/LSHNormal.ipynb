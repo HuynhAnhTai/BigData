{
  "nbformat": 4,
  "nbformat_minor": 0,
  "metadata": {
    "colab": {
      "name": "LSHNormal.ipynb",
      "provenance": [],
      "collapsed_sections": []
    },
    "kernelspec": {
      "name": "python3",
      "display_name": "Python 3"
    }
  },
  "cells": [
    {
      "cell_type": "code",
      "metadata": {
        "id": "ctemWz9W77aC"
      },
      "source": [
        "from nltk.util import ngrams\n",
        "import pandas as pd\n",
        "from random import shuffle, randint\n",
        "import math, time"
      ],
      "execution_count": 45,
      "outputs": []
    },
    {
      "cell_type": "code",
      "metadata": {
        "id": "5eJQZvHwBPTg"
      },
      "source": [
        "def hashString(text):\n",
        "  return abs(hash(text)) % (10 ** 8)\n"
      ],
      "execution_count": 46,
      "outputs": []
    },
    {
      "cell_type": "markdown",
      "metadata": {
        "id": "XCeOERMM9cqg"
      },
      "source": [
        "**Không dùng PySpark**"
      ]
    },
    {
      "cell_type": "markdown",
      "metadata": {
        "id": "6Sb2EjsD9hEb"
      },
      "source": [
        "\n",
        "\n",
        "> Shingles\n",
        "\n",
        "\n"
      ]
    },
    {
      "cell_type": "code",
      "metadata": {
        "id": "sWvKK3iH8yuJ"
      },
      "source": [
        "class Shingles:\n",
        "    def __init__(self):\n",
        "      self.myShingles = []\n",
        "    \n",
        "    def splitToken(self, text, kGram):\n",
        "      specialWords = '[\\/.@]'\n",
        "      text = text.lower()\n",
        "      #remove special word\n",
        "      for word in specialWords:\n",
        "        text = text.replace(word, ' ')\n",
        "      shinglesText = []\n",
        "      #split to get Kgram\n",
        "      nGram = self.getData(ngrams(text.split(), kGram))\n",
        "      #connect all gram to 1 set\n",
        "      for grams in nGram:\n",
        "        if grams not in self.myShingles:\n",
        "          self.myShingles.append(' '.join(grams))\n",
        "        shinglesText.append(' '.join(grams))\n",
        "      return shinglesText\n",
        "\n",
        "    def getData(self, gen):\n",
        "      try:\n",
        "        for elem in gen:\n",
        "          yield elem\n",
        "      except (RuntimeError, StopIteration):\n",
        "          return\n",
        "    \n",
        "    def hashShingles(self, arrayShingles):\n",
        "      arrayHash = []\n",
        "      for shingles in arrayShingles:\n",
        "        arrayHash.append(hashString(shingles))\n",
        "      return sorted(arrayHash)\n",
        "  "
      ],
      "execution_count": 47,
      "outputs": []
    },
    {
      "cell_type": "code",
      "metadata": {
        "colab": {
          "base_uri": "https://localhost:8080/"
        },
        "id": "BDpBNFeT9Fzu",
        "outputId": "b7d899bb-4f98-4372-8369-95987ffc5981"
      },
      "source": [
        "#TEST SPLIT TOKEN\n",
        "text1 = 'THIS is a foo bar sentences and. [i want to ngramize it]'\n",
        "myShingles = Shingles()\n",
        "shinglesSet = myShingles.splitToken(text1, 3)\n",
        "hashShingles = myShingles.hashShingles(shinglesSet)\n",
        "print(shinglesSet)\n",
        "print(hashShingles)"
      ],
      "execution_count": 48,
      "outputs": [
        {
          "output_type": "stream",
          "text": [
            "['this is a', 'is a foo', 'a foo bar', 'foo bar sentences', 'bar sentences and', 'sentences and i', 'and i want', 'i want to', 'want to ngramize', 'to ngramize it']\n",
            "[6284423, 22622771, 22854896, 31643269, 34007365, 64852186, 79322576, 87815386, 87855679, 97401676]\n"
          ],
          "name": "stdout"
        }
      ]
    },
    {
      "cell_type": "code",
      "metadata": {
        "colab": {
          "base_uri": "https://localhost:8080/"
        },
        "id": "WmciFvRaLWAl",
        "outputId": "5cdf4392-dcbd-40f1-8522-df9197670082"
      },
      "source": [
        "text2 = 'Hello my name is Tai. Nice to meet you This is a foo'\n",
        "shinglesSet2 = myShingles.splitToken(text2, 3)\n",
        "hashShingles2 = myShingles.hashShingles(shinglesSet)\n",
        "print(shinglesSet2)\n",
        "print(hashShingles2)"
      ],
      "execution_count": 49,
      "outputs": [
        {
          "output_type": "stream",
          "text": [
            "['hello my name', 'my name is', 'name is tai', 'is tai nice', 'tai nice to', 'nice to meet', 'to meet you', 'meet you this', 'you this is', 'this is a', 'is a foo']\n",
            "[6284423, 22622771, 22854896, 31643269, 34007365, 64852186, 79322576, 87815386, 87855679, 97401676]\n"
          ],
          "name": "stdout"
        }
      ]
    },
    {
      "cell_type": "code",
      "metadata": {
        "colab": {
          "base_uri": "https://localhost:8080/"
        },
        "id": "G3RLCFINLj-Z",
        "outputId": "b0508078-8983-4f99-9c7a-5f6c0ff44fce"
      },
      "source": [
        "print(myShingles.myShingles)"
      ],
      "execution_count": 50,
      "outputs": [
        {
          "output_type": "stream",
          "text": [
            "['this is a', 'is a foo', 'a foo bar', 'foo bar sentences', 'bar sentences and', 'sentences and i', 'and i want', 'i want to', 'want to ngramize', 'to ngramize it', 'hello my name', 'my name is', 'name is tai', 'is tai nice', 'tai nice to', 'nice to meet', 'to meet you', 'meet you this', 'you this is', 'this is a', 'is a foo']\n"
          ],
          "name": "stdout"
        }
      ]
    },
    {
      "cell_type": "code",
      "metadata": {
        "id": "wNTcYglyOXTn"
      },
      "source": [
        "def createMaxtrixTrueFalse(listShingles, *args):\n",
        "  data = {}\n",
        "  indexDoc = 1;\n",
        "  for s in args:\n",
        "    columnName = 'set' + str(indexDoc)\n",
        "    arrayTrueFalse = []\n",
        "    for shingle in listShingles:\n",
        "      if (shingle in s):\n",
        "        arrayTrueFalse.append(1)\n",
        "      else:\n",
        "        arrayTrueFalse.append(0)\n",
        "    data[columnName] = arrayTrueFalse\n",
        "    indexDoc += 1\n",
        "  return pd.DataFrame(data) \n",
        "  #return pd.DataFrame(data,index =listShingles)"
      ],
      "execution_count": 51,
      "outputs": []
    },
    {
      "cell_type": "code",
      "metadata": {
        "colab": {
          "base_uri": "https://localhost:8080/"
        },
        "id": "nWG6_hLQN9ps",
        "outputId": "2fb3a608-cc51-4696-ff9c-11e56043883d"
      },
      "source": [
        "#TEST CREATE MATRIX\n",
        "maxtrixTrueFalse = createMaxtrixTrueFalse(myShingles.myShingles, shinglesSet, shinglesSet2)\n",
        "print(maxtrixTrueFalse)"
      ],
      "execution_count": 52,
      "outputs": [
        {
          "output_type": "stream",
          "text": [
            "    set1  set2\n",
            "0      1     1\n",
            "1      1     1\n",
            "2      1     0\n",
            "3      1     0\n",
            "4      1     0\n",
            "5      1     0\n",
            "6      1     0\n",
            "7      1     0\n",
            "8      1     0\n",
            "9      1     0\n",
            "10     0     1\n",
            "11     0     1\n",
            "12     0     1\n",
            "13     0     1\n",
            "14     0     1\n",
            "15     0     1\n",
            "16     0     1\n",
            "17     0     1\n",
            "18     0     1\n",
            "19     1     1\n",
            "20     1     1\n"
          ],
          "name": "stdout"
        }
      ]
    },
    {
      "cell_type": "markdown",
      "metadata": {
        "id": "7gdjnRDwRvve"
      },
      "source": [
        "> Min Hash\n"
      ]
    },
    {
      "cell_type": "code",
      "metadata": {
        "id": "9C-Wt89PQ76a"
      },
      "source": [
        "class MinHash:\n",
        "  def __init__(self, sig_size, listShingles):\n",
        "    self.sig_size = sig_size\n",
        "    self.listShingles = listShingles\n",
        "    self.hash_functions = []\n",
        "    self.createPermuation()\n",
        "    #print(self.hash_functions)\n",
        "  \n",
        "  #create array permutation\n",
        "  def createPermuation(self):\n",
        "    #create array from 1 to len(listShingles)\n",
        "    for i in range(0,self.sig_size):\n",
        "      arrayNumberInPermution = list(range(1,len(self.listShingles)+1))\n",
        "      shuffle(arrayNumberInPermution)\n",
        "      self.hash_functions.append(arrayNumberInPermution)\n",
        "\n",
        "  def computeSetSignature(self, set_):\n",
        "    set_sig = []\n",
        "    maxtrixTrueFalse = createMaxtrixTrueFalse(self.listShingles, set_)\n",
        "    #just get only row is 1\n",
        "    maxtrixTrue = maxtrixTrueFalse[maxtrixTrueFalse['set1']==1]\n",
        "    #run each column in permutation and check get value min\n",
        "    for columnPermutation in self.hash_functions:\n",
        "      min_hash = math.inf\n",
        "      for index, row in maxtrixTrue.iterrows():\n",
        "          if (columnPermutation[index] < min_hash):\n",
        "            min_hash = columnPermutation[index]\n",
        "      set_sig.append(min_hash)\n",
        "    return set_sig\n",
        "\n",
        "  #set Singles is array of singles each document\n",
        "  def computeSignatureMatrix(self, setSingles):\n",
        "    signatures = []\n",
        "    for s in setSingles:\n",
        "      signatures.append(self.computeSetSignature(s))\n",
        "    return signatures\n"
      ],
      "execution_count": 53,
      "outputs": []
    },
    {
      "cell_type": "code",
      "metadata": {
        "colab": {
          "base_uri": "https://localhost:8080/"
        },
        "id": "KkynV9dpS3SY",
        "outputId": "29867525-4d09-4cf0-9d5f-5addff9167e1"
      },
      "source": [
        "#TEST MIN HASHING\n",
        "myShingles = Shingles()\n",
        "shinglesSet1 = myShingles.splitToken(text1, 3)\n",
        "shinglesSet2 = myShingles.splitToken(text2, 3)\n",
        "minHash = MinHash(6, myShingles.myShingles)\n",
        "\n",
        "print(minHash.computeSignatureMatrix([shinglesSet1, shinglesSet2]))"
      ],
      "execution_count": 54,
      "outputs": [
        {
          "output_type": "stream",
          "text": [
            "[[2, 1, 2, 2, 1, 2], [1, 1, 1, 1, 3, 1]]\n"
          ],
          "name": "stdout"
        }
      ]
    },
    {
      "cell_type": "code",
      "metadata": {
        "id": "cWHiWzQoPrIw"
      },
      "source": [
        "class LSH:\n",
        "  def __init__(self, threshold=0.8):\n",
        "    self.threshold = threshold\n",
        "  \n",
        "  #create band with number of bands (bands_nr)\n",
        "  #divide item in maxtrix into bands_nr of bands\n",
        "  def divideMatrixToNBands(self, sigMatrix, bandsNr, signLen):\n",
        "    r = int(signLen/bandsNr)#number of rows in each band\n",
        "    bands = {}\n",
        "    for i in range(0, bandsNr):\n",
        "      bands[i] = []\n",
        "    #print(sigMatrix[:10])\n",
        "    for signature in sigMatrix:\n",
        "      for i in range(0, bandsNr):\n",
        "        idx = i*r\n",
        "        for x in signature[idx:idx+r]:\n",
        "          bands[i].append(str(x))\n",
        "    #print(bands)\n",
        "    return bands\n",
        "  \n",
        "  #hash item in band into buckets\n",
        "  def hashItemToBucketOfBand(self, band):\n",
        "    buckets = {}\n",
        "    #docId is index of doc in dataset\n",
        "    for docId in range(0,len(band)):\n",
        "      value = hashString(band[docId])\n",
        "      if value not in buckets:\n",
        "        buckets[value] = [docId]\n",
        "      else:\n",
        "        buckets[value].append(docId)\n",
        "    #print(buckets)\n",
        "    return buckets\n",
        "\n",
        "  #pair group\n",
        "  def groupPairItemCandidate(self, buckets):\n",
        "    candidates = set()\n",
        "    #print(\"-----------------------------------------------\")\n",
        "    #print(buckets)\n",
        "    for bucket, candidateList in buckets.items():\n",
        "      if (len(candidateList) > 1):\n",
        "        for i in range(0, len(candidateList)-1):\n",
        "          for j in range(i+1, len(candidateList)):\n",
        "            pair = tuple(sorted((candidateList[i], candidateList[j])))\n",
        "            candidates.add(pair)\n",
        "    #print(\"Candidates\")\n",
        "    #print(candidates)\n",
        "    return candidates #ie a set of couples, each couple is a candidate pair\n",
        "  \n",
        "  #compair docs\n",
        "  def checkCandidates(self, candidatesList, threshold, sigs):\n",
        "    similar_docs = set()\n",
        "\n",
        "    for similarPair in candidatesList:\n",
        "      docId1 = similarPair[0]\n",
        "      docId2 = similarPair[1]\n",
        "      #print(doc_id_1)\n",
        "      signature1 = set(sigs[docId1])\n",
        "      signature2 = set(sigs[docId2])\n",
        "      js = len(signature1.intersection(signature2)) / len(signature1.union(signature2))\n",
        "\n",
        "      if js >= threshold:\n",
        "        similar_docs.add(tuple(sorted((docId1, docId2))))\n",
        "    return similar_docs\n",
        "  \n",
        "  def getSimilarItems(self, sigMatrix, bandsNr, signLen):\n",
        "    similarDocs = set()\n",
        "    bands = self.divideMatrixToNBands(sigMatrix, bandsNr, signLen)\n",
        "    #print(bands)\n",
        "    for band_id, elements in bands.items():\n",
        "      buckets = self.hashItemToBucketOfBand(elements)\n",
        "      candidates = self.groupPairItemCandidate(buckets)\n",
        "      for sim_tuple in self.checkCandidates(candidates, self.threshold, sigMatrix):\n",
        "        similarDocs.add(sim_tuple)\n",
        "        \n",
        "    return similarDocs"
      ],
      "execution_count": 55,
      "outputs": []
    },
    {
      "cell_type": "code",
      "metadata": {
        "colab": {
          "base_uri": "https://localhost:8080/"
        },
        "id": "n1CdKKyxC_do",
        "outputId": "52b1b654-6b22-4fd8-a649-b3e2a707020b"
      },
      "source": [
        "dataset = pd.read_csv(\"dataset.tsv\", sep=\"\\t\")\n",
        "dataset['doc_id'] = dataset.index\n",
        "docNr = dataset['doc_id'].max()\n",
        "print(dataset['doc_id'].max())"
      ],
      "execution_count": 60,
      "outputs": [
        {
          "output_type": "stream",
          "text": [
            "2626\n"
          ],
          "name": "stdout"
        }
      ]
    },
    {
      "cell_type": "code",
      "metadata": {
        "colab": {
          "base_uri": "https://localhost:8080/"
        },
        "id": "-ONNnWooTqKG",
        "outputId": "9a5816d5-9ae1-4ead-bb54-a1d0fce439bd"
      },
      "source": [
        "\n",
        "\n",
        "print(\"Tranfer singles\")\n",
        "startTime = time.time()\n",
        "\n",
        "shinglingList = [None] * (docNr+1)\n",
        "shinglingSize = 10\n",
        "signatureSize = 3\n",
        "bandsNr = 10\n",
        "\n",
        "shingles = Shingles()\n",
        "for index, row in dataset.iterrows():\n",
        "  doc = row['Title']+\" \"+row['Short Description']\n",
        "  i = row['doc_id']\n",
        "  shinglings = shingles.splitToken(doc, shinglingSize)\n",
        "  shinglingList[i] = shinglings\n",
        "\n",
        "#print(shingling_list[:10])\n",
        "endTime = time.time()\n",
        "print(\"Time: \"+str((endTime-startTime)))"
      ],
      "execution_count": 56,
      "outputs": [
        {
          "output_type": "stream",
          "text": [
            "Tranfer singles\n",
            "Time: 836.4759745597839\n"
          ],
          "name": "stdout"
        }
      ]
    },
    {
      "cell_type": "code",
      "metadata": {
        "colab": {
          "base_uri": "https://localhost:8080/"
        },
        "id": "E7KyDCW1iEB4",
        "outputId": "f804e771-1aa6-4708-edf4-e9e543011592"
      },
      "source": [
        "\n",
        "print(\"Tranfer Min Hash\")\n",
        "signatureSize = 10\n",
        "startTime = time.time()\n",
        "minHash = MinHash(signatureSize, shingles.myShingles)\n",
        "\n",
        "signatureMatrix = minHash.computeSignatureMatrix(shinglingList) \n",
        "print(signatureMatrix[:10])\n",
        "endTime = time.time()\n",
        "print(\"Time: \"+str((endTime-startTime)))\n"
      ],
      "execution_count": 57,
      "outputs": [
        {
          "output_type": "stream",
          "text": [
            "Tranfer Min Hash\n",
            "[[84, 134, 93, 136, 100, 82, 57, 7, 8, 60], [7, 13, 15, 11, 25, 4, 4, 9, 16, 26], [413, 2942, 4960, 7162, 15183, 2967, 3456, 162, 6358, 3254], [10932, 2829, 4065, 34237, 6407, 8462, 937, 1966, 7072, 569], [8944, 818, 6762, 2053, 717, 104, 205, 658, 2363, 2086], [8973, 11621, 23796, 4116, 8022, 5045, 7128, 745, 30437, 1867], [12, 7248, 3856, 4168, 7769, 6012, 4517, 19202, 2641, 1689], [6670, 25653, 54002, 17724, 6837, 7391, 20634, 13995, 153, 20082], [2799, 16867, 6877, 9974, 2023, 5100, 16122, 1707, 12477, 4401], [220, 39, 1778, 559, 257, 1542, 304, 169, 340, 827]]\n",
            "Time: 1966.3656435012817\n"
          ],
          "name": "stdout"
        }
      ]
    },
    {
      "cell_type": "code",
      "metadata": {
        "colab": {
          "base_uri": "https://localhost:8080/"
        },
        "id": "g6Sl1246kohk",
        "outputId": "93c3882b-5b2b-4dc2-829a-ed9e1805a392"
      },
      "source": [
        "print(\"Transfer LSH\")\n",
        "lsh = LSH(threshold =0.8)\n",
        "\n",
        "startTime = time.time()\n",
        "lshSimilarItem = lsh.getSimilarItems(signatureMatrix, bandsNr, signatureSize)\n",
        "endTime = time.time()\n",
        "#print(lshSimilarItem)\n",
        "print(\"Time: \"+str((endTime-startTime)))"
      ],
      "execution_count": 58,
      "outputs": [
        {
          "output_type": "stream",
          "text": [
            "Transfer LSH\n",
            "Time: 0.8511092662811279\n"
          ],
          "name": "stdout"
        }
      ]
    },
    {
      "cell_type": "code",
      "metadata": {
        "colab": {
          "base_uri": "https://localhost:8080/"
        },
        "id": "Bwo6vpzplUL5",
        "outputId": "620337de-c356-4fd9-ef6e-0f19bc88f682"
      },
      "source": [
        "for i in range(0,3):\n",
        "  docs = lshSimilarItem.pop()\n",
        "  print(\"Doc 1: \")\n",
        "  print(dataset.iloc[docs[0]])\n",
        "  print(\"Similar Doc 2: \")\n",
        "  print(dataset.iloc[docs[1]])\n",
        "  print(\"------------------------------------------------------------------------------------\")"
      ],
      "execution_count": 59,
      "outputs": [
        {
          "output_type": "stream",
          "text": [
            "Doc 1: \n",
            "Title                Avviato studio psicologia mette a disposizione...\n",
            "Short Description    Avviato studio di psicologia mette a disposizi...\n",
            "Location                                               Centro Storico \n",
            "Price (Euro)                                                      110 \n",
            "Timestamp                                            9 ottobre, 18:01 \n",
            "Url Adv              https://www.kijiji.it/annunci/stanze-e-posti-l...\n",
            "doc_id                                                             506\n",
            "Name: 506, dtype: object\n",
            "Similar Doc 2: \n",
            "Title                Avviato studio psicologia mette a disposizione...\n",
            "Short Description    Avviato studio di psicologia mette a disposizi...\n",
            "Location                                               Centro Storico \n",
            "Price (Euro)                                                      110 \n",
            "Timestamp                                            9 ottobre, 18:01 \n",
            "Url Adv              https://www.kijiji.it/annunci/stanze-e-posti-l...\n",
            "doc_id                                                             568\n",
            "Name: 568, dtype: object\n",
            "------------------------------------------------------------------------------------\n",
            "Doc 1: \n",
            "Title                                       Ufficio - Rif. Mazzola750 \n",
            "Short Description    Eur Tintoretto Via Valentino Mazzola proponiam...\n",
            "Location                                                         Roma \n",
            "Price (Euro)                                        Contatta l'utente \n",
            "Timestamp                                              5 marzo, 04:38 \n",
            "Url Adv              https://www.kijiji.it/annunci/affitto/roma-ann...\n",
            "doc_id                                                            1993\n",
            "Name: 1993, dtype: object\n",
            "Similar Doc 2: \n",
            "Title                                      Ufficio - Rif. Mazzola1500 \n",
            "Short Description    Eur Tintoretto Via Valentino Mazzola proponiam...\n",
            "Location                                                         Roma \n",
            "Price (Euro)                                        Contatta l'utente \n",
            "Timestamp                                          16 febbraio, 22:29 \n",
            "Url Adv              https://www.kijiji.it/annunci/affitto/roma-ann...\n",
            "doc_id                                                            2464\n",
            "Name: 2464, dtype: object\n",
            "------------------------------------------------------------------------------------\n",
            "Doc 1: \n",
            "Title                Negozio 169Mq per laboratorio, ufficio, studio...\n",
            "Short Description    Privato affitta negozio 169 mq, al piano terra...\n",
            "Location                                        Prenestino / Casilino \n",
            "Price (Euro)                                                    1.700 \n",
            "Timestamp                                           12 ottobre, 08:45 \n",
            "Url Adv              https://www.kijiji.it/annunci/affitto/roma-ann...\n",
            "doc_id                                                            1154\n",
            "Name: 1154, dtype: object\n",
            "Similar Doc 2: \n",
            "Title                Negozio 169Mq per laboratorio, ufficio, studio...\n",
            "Short Description    Privato affitta negozio 169 mq, al piano terra...\n",
            "Location                                        Prenestino / Casilino \n",
            "Price (Euro)                                                    1.700 \n",
            "Timestamp                                           12 ottobre, 08:45 \n",
            "Url Adv              https://www.kijiji.it/annunci/affitto/roma-ann...\n",
            "doc_id                                                            1990\n",
            "Name: 1990, dtype: object\n",
            "------------------------------------------------------------------------------------\n"
          ],
          "name": "stdout"
        }
      ]
    }
  ]
}